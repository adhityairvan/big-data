{
 "cells": [
  {
   "cell_type": "code",
   "execution_count": 1,
   "metadata": {},
   "outputs": [],
   "source": [
    "import findspark\n",
    "findspark.init()\n",
    "import pyspark"
   ]
  },
  {
   "cell_type": "code",
   "execution_count": 18,
   "metadata": {},
   "outputs": [
    {
     "name": "stdout",
     "output_type": "stream",
     "text": [
      "+------+--------------+---------------------------+------------+-----------------------+----------+-------------+-------------+---+\n",
      "|gender|race/ethnicity|parental level of education|       lunch|test preparation course|math score|reading score|writing score| id|\n",
      "+------+--------------+---------------------------+------------+-----------------------+----------+-------------+-------------+---+\n",
      "|female|       group B|          bachelor's degree|    standard|                   none|        72|           72|           74|  0|\n",
      "|female|       group C|               some college|    standard|              completed|        69|           90|           88|  1|\n",
      "|female|       group B|            master's degree|    standard|                   none|        90|           95|           93|  2|\n",
      "|  male|       group A|         associate's degree|free/reduced|                   none|        47|           57|           44|  3|\n",
      "|  male|       group C|               some college|    standard|                   none|        76|           78|           75|  4|\n",
      "|female|       group B|         associate's degree|    standard|                   none|        71|           83|           78|  5|\n",
      "|female|       group B|               some college|    standard|              completed|        88|           95|           92|  6|\n",
      "|  male|       group B|               some college|free/reduced|                   none|        40|           43|           39|  7|\n",
      "|  male|       group D|                high school|free/reduced|              completed|        64|           64|           67|  8|\n",
      "|female|       group B|                high school|free/reduced|                   none|        38|           60|           50|  9|\n",
      "|  male|       group C|         associate's degree|    standard|                   none|        58|           54|           52| 10|\n",
      "|  male|       group D|         associate's degree|    standard|                   none|        40|           52|           43| 11|\n",
      "|female|       group B|                high school|    standard|                   none|        65|           81|           73| 12|\n",
      "|  male|       group A|               some college|    standard|              completed|        78|           72|           70| 13|\n",
      "|female|       group A|            master's degree|    standard|                   none|        50|           53|           58| 14|\n",
      "|female|       group C|           some high school|    standard|                   none|        69|           75|           78| 15|\n",
      "|  male|       group C|                high school|    standard|                   none|        88|           89|           86| 16|\n",
      "|female|       group B|           some high school|free/reduced|                   none|        18|           32|           28| 17|\n",
      "|  male|       group C|            master's degree|free/reduced|              completed|        46|           42|           46| 18|\n",
      "|female|       group C|         associate's degree|free/reduced|                   none|        54|           58|           61| 19|\n",
      "+------+--------------+---------------------------+------------+-----------------------+----------+-------------+-------------+---+\n",
      "only showing top 20 rows\n",
      "\n"
     ]
    }
   ],
   "source": [
    "from pyspark.sql import SparkSession\n",
    "from pyspark.sql.functions import monotonically_increasing_id\n",
    "spark = SparkSession \\\n",
    "    .builder \\\n",
    "    .appName(\"Python Spark SQL basic example\") \\\n",
    "    .config(\"spark.some.config.option\", \"some-value\") \\\n",
    "    .getOrCreate()\n",
    "raw = spark.read.csv(\"StudentsPerformance.csv\", inferSchema = True, header = True)\n",
    "\n",
    "df = raw.select(\"*\").withColumn(\"id\", monotonically_increasing_id())\n",
    "df.show()"
   ]
  },
  {
   "cell_type": "code",
   "execution_count": 20,
   "metadata": {},
   "outputs": [
    {
     "name": "stdout",
     "output_type": "stream",
     "text": [
      "+---+------+----------+-------------+-------------+\n",
      "| id|gender|math score|reading score|writing score|\n",
      "+---+------+----------+-------------+-------------+\n",
      "|  0|female|        72|           72|           74|\n",
      "|  2|female|        90|           95|           93|\n",
      "|  4|  male|        76|           78|           75|\n",
      "|  5|female|        71|           83|           78|\n",
      "|  6|female|        88|           95|           92|\n",
      "| 13|  male|        78|           72|           70|\n",
      "| 16|  male|        88|           89|           86|\n",
      "| 24|  male|        74|           71|           80|\n",
      "| 25|  male|        73|           74|           72|\n",
      "| 34|  male|        97|           87|           82|\n",
      "| 35|  male|        81|           81|           79|\n",
      "| 36|female|        74|           81|           83|\n",
      "| 38|female|        75|           90|           88|\n",
      "| 49|  male|        82|           84|           82|\n",
      "| 53|  male|        88|           78|           75|\n",
      "| 54|female|        71|           84|           87|\n",
      "| 56|female|        82|           85|           86|\n",
      "| 60|  male|        79|           74|           72|\n",
      "| 77|  male|        80|           78|           81|\n",
      "| 85|female|        73|           80|           82|\n",
      "+---+------+----------+-------------+-------------+\n",
      "only showing top 20 rows\n",
      "\n"
     ]
    }
   ],
   "source": [
    "df.createOrReplaceTempView('studentGrade')\n",
    "result = spark.sql(\"SELECT id,gender,`math score`,`reading score`, `writing score`  FROM studentGrade where `math score` >=70 AND `reading score` >= 70 AND `writing score` >= 70\")\n",
    "result.show()"
   ]
  },
  {
   "cell_type": "code",
   "execution_count": null,
   "metadata": {},
   "outputs": [],
   "source": []
  }
 ],
 "metadata": {
  "kernelspec": {
   "display_name": "Python 3",
   "language": "python",
   "name": "python3"
  },
  "language_info": {
   "codemirror_mode": {
    "name": "ipython",
    "version": 3
   },
   "file_extension": ".py",
   "mimetype": "text/x-python",
   "name": "python",
   "nbconvert_exporter": "python",
   "pygments_lexer": "ipython3",
   "version": "3.6.7"
  }
 },
 "nbformat": 4,
 "nbformat_minor": 2
}
